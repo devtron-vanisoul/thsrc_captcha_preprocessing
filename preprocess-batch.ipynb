{
 "cells": [
  {
   "cell_type": "code",
   "execution_count": null,
   "metadata": {},
   "outputs": [],
   "source": [
    "import os, random, cv2\n",
    "from PIL import Image\n",
    "import matplotlib.pyplot as plt\n",
    "import numpy as np\n",
    "from sklearn.preprocessing import binarize\n",
    "from sklearn.preprocessing import PolynomialFeatures\n",
    "from sklearn.linear_model import LinearRegression\n",
    "\n",
    "WIDTH = 140\n",
    "HEIGHT = 48\n",
    "\n",
    "CAPTCHA_FOLDER = \"captcha/\"\n",
    "PROCESSED_FOLDER = \"processed/\"\n"
   ]
  },
  {
   "cell_type": "code",
   "execution_count": null,
   "metadata": {},
   "outputs": [],
   "source": [
    "def imgDenoise(filename):\n",
    "    img = cv2.imread(filename)\n",
    "    dst = cv2.fastNlMeansDenoisingColored(img, None, 30, 30, 7, 21)\n",
    "    return dst"
   ]
  },
  {
   "cell_type": "code",
   "execution_count": null,
   "metadata": {},
   "outputs": [],
   "source": [
    "def img2Gray(img):\n",
    "    ret, thresh = cv2.threshold(img, 127, 255, cv2.THRESH_BINARY_INV)\n",
    "    return thresh"
   ]
  },
  {
   "cell_type": "code",
   "execution_count": null,
   "metadata": {},
   "outputs": [],
   "source": [
    "def findRegression(img):\n",
    "    img = cv2.cvtColor(img, cv2.COLOR_BGR2GRAY)\n",
    "    img[:, 14:WIDTH - 7] = 0\n",
    "    imagedata = np.where(img == 255)\n",
    "\n",
    "    X = np.array([imagedata[1]])\n",
    "    Y = HEIGHT - imagedata[0]\n",
    "    \n",
    "    poly_reg = PolynomialFeatures(degree = 2)\n",
    "    X_ = poly_reg.fit_transform(X.T)\n",
    "    regr = LinearRegression()\n",
    "    regr.fit(X_, Y)\n",
    "    return regr"
   ]
  },
  {
   "cell_type": "code",
   "execution_count": null,
   "metadata": {},
   "outputs": [],
   "source": [
    "def dePolynomial(img, regr):\n",
    "    X2 = np.array([[i for i in range(0, WIDTH)]])\n",
    "    poly_reg = PolynomialFeatures(degree = 2)\n",
    "    X2_ = poly_reg.fit_transform(X2.T)\n",
    "    offset = 4\n",
    "\n",
    "    newimg = cv2.cvtColor(img, cv2.COLOR_BGR2GRAY)\n",
    "    for ele in np.column_stack([regr.predict(X2_).round(2), X2[0]]):\n",
    "        pos = HEIGHT - int(ele[0])\n",
    "        newimg[pos - offset:pos + offset, int(ele[1])] = 255 - newimg[pos - offset:pos + offset, int(ele[1])]\n",
    "\n",
    "    return newimg"
   ]
  },
  {
   "cell_type": "code",
   "execution_count": null,
   "metadata": {},
   "outputs": [],
   "source": [
    "def preprocessing(from_filename, to_filename):\n",
    "    if not os.path.isfile(from_filename):\n",
    "        return\n",
    "    img = imgDenoise(from_filename)\n",
    "    img = img2Gray(img)\n",
    "    regr = findRegression(img)\n",
    "    newimg = dePolynomial(img, regr)\n",
    "    cv2.imwrite(to_filename, newimg)\n",
    "    return"
   ]
  },
  {
   "cell_type": "code",
   "execution_count": null,
   "metadata": {},
   "outputs": [],
   "source": [
    "i = 0\n",
    "\n",
    "# ignore existing image\n",
    "while True:\n",
    "    i += 1\n",
    "    filename = PROCESSED_FOLDER + str(i) + '.jpg'\n",
    "    if not os.path.isfile(filename):\n",
    "        i -= 1\n",
    "        break\n",
    "\n",
    "while True:\n",
    "    i += 1\n",
    "    filename = CAPTCHA_FOLDER + str(i) + '.jpg'\n",
    "    if not os.path.isfile(filename):\n",
    "        break\n",
    "    preprocessing(filename, PROCESSED_FOLDER + str(i) + '.jpg')\n",
    "    print(\"i: \" + str(i))\n",
    "\n",
    "print(\"completed\")"
   ]
  },
  {
   "cell_type": "code",
   "execution_count": null,
   "metadata": {},
   "outputs": [],
   "source": []
  }
 ],
 "metadata": {
  "kernelspec": {
   "display_name": "Python 3",
   "language": "python",
   "name": "python3"
  },
  "language_info": {
   "codemirror_mode": {
    "name": "ipython",
    "version": 3
   },
   "file_extension": ".py",
   "mimetype": "text/x-python",
   "name": "python",
   "nbconvert_exporter": "python",
   "pygments_lexer": "ipython3",
   "version": "3.7.4"
  }
 },
 "nbformat": 4,
 "nbformat_minor": 2
}
