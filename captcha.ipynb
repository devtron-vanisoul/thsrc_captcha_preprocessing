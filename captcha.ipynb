{
 "cells": [
  {
   "cell_type": "code",
   "execution_count": null,
   "metadata": {},
   "outputs": [],
   "source": [
    "from selenium import webdriver\n",
    "driver = webdriver.Firefox()\n",
    "#driver.add_cookie({'name' : 'AcceptIRSCookiePolicyTime', 'value' : 'true'})\n",
    "driver.get('http://irs.thsrc.com.tw/IMINT/')\n",
    "driver.find_element_by_id('btn-confirm').click()"
   ]
  },
  {
   "cell_type": "code",
   "execution_count": null,
   "metadata": {},
   "outputs": [],
   "source": [
    "driver.save_screenshot(\"captcha/thsrc.jpg\")"
   ]
  },
  {
   "cell_type": "code",
   "execution_count": null,
   "metadata": {},
   "outputs": [],
   "source": [
    "#element = driver.find_element_by_id('BookingS1Form_homeCaptcha_passCode')\n",
    "element = driver.find_element_by_xpath('//*[@id=\"BookingS1Form_homeCaptcha_passCode\"]')\n",
    "print(element)\n",
    "location = element.location\n",
    "location"
   ]
  },
  {
   "cell_type": "code",
   "execution_count": null,
   "metadata": {},
   "outputs": [],
   "source": [
    "element.size"
   ]
  },
  {
   "cell_type": "code",
   "execution_count": null,
   "metadata": {},
   "outputs": [],
   "source": [
    "left = location['x']\n",
    "right = location['x'] + element.size['width']\n",
    "top = element.location['y']\n",
    "bottom = element.location['y']  + element.size['height']\n",
    "(left, top, right, bottom)"
   ]
  },
  {
   "cell_type": "code",
   "execution_count": null,
   "metadata": {},
   "outputs": [],
   "source": [
    "from PIL import Image\n",
    "img = Image.open('thsrc.jpg')\n",
    "img = img.crop((left, top, right, bottom))\n"
   ]
  },
  {
   "cell_type": "code",
   "execution_count": null,
   "metadata": {},
   "outputs": [],
   "source": [
    "img.show()"
   ]
  },
  {
   "cell_type": "code",
   "execution_count": null,
   "metadata": {},
   "outputs": [],
   "source": [
    "import time\n",
    "# convert rgba to rgb\n",
    "img = img.convert('RGB')\n",
    "\n",
    "img.save(\"captcha/\" + str(time.time()) + '.jpg', \"JPEG\")"
   ]
  },
  {
   "cell_type": "code",
   "execution_count": null,
   "metadata": {},
   "outputs": [],
   "source": []
  }
 ],
 "metadata": {
  "kernelspec": {
   "display_name": "Python 3",
   "language": "python",
   "name": "python3"
  },
  "language_info": {
   "codemirror_mode": {
    "name": "ipython",
    "version": 3
   },
   "file_extension": ".py",
   "mimetype": "text/x-python",
   "name": "python",
   "nbconvert_exporter": "python",
   "pygments_lexer": "ipython3",
   "version": "3.7.4"
  }
 },
 "nbformat": 4,
 "nbformat_minor": 2
}
