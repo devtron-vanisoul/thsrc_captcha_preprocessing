{
 "cells": [
  {
   "cell_type": "code",
   "execution_count": null,
   "metadata": {},
   "outputs": [],
   "source": [
    "import time, os\n",
    "from PIL import Image\n",
    "from selenium import webdriver\n",
    "from selenium.webdriver.chrome.options import Options\n",
    "\n",
    "full_image = \"thsrc.jpg\"\n",
    "WIDTH = 280\n",
    "HEIGHT = 96\n",
    "FOLDER = \"captcha/\""
   ]
  },
  {
   "cell_type": "code",
   "execution_count": null,
   "metadata": {},
   "outputs": [],
   "source": [
    "def get_screenshot():\n",
    "    chrome_options = Options() # 啟動無頭模式\n",
    "    chrome_options.add_argument('--headless')\n",
    "    chrome_options.add_argument('--disable-gpu')\n",
    "    executable_path = '/usr/local/bin/chromedriver'\n",
    "    driver = webdriver.Chrome(executable_path=executable_path, options=chrome_options)\n",
    "    driver.get('http://irs.thsrc.com.tw/IMINT/')\n",
    "\n",
    "    driver.find_element_by_id('btn-confirm').click()\n",
    "    time.sleep(1)\n",
    "\n",
    "    driver.save_screenshot(full_image)\n",
    "    element = driver.find_element_by_xpath('//*[@id=\"BookingS1Form_homeCaptcha_passCode\"]')\n",
    "    location = element.location\n",
    "    size = element.size\n",
    "    driver.quit()\n",
    "    return location, size"
   ]
  },
  {
   "cell_type": "code",
   "execution_count": null,
   "metadata": {},
   "outputs": [],
   "source": [
    "def refine_coordinate(location, size):\n",
    "    left = location['x'] * 2\n",
    "    right = left + size['width'] * 2\n",
    "    top = location['y'] * 2\n",
    "    bottom = top + size['height'] * 2\n",
    "    return (left, top, right, bottom)"
   ]
  },
  {
   "cell_type": "code",
   "execution_count": null,
   "metadata": {},
   "outputs": [],
   "source": [
    "def crop_and_resize_image(coordinate, i):\n",
    "    img = Image.open(full_image)\n",
    "    img = img.crop(coordinate)\n",
    "    img = img.resize((WIDTH, HEIGHT), Image.ANTIALIAS)\n",
    "    # convert rgba to rgb\n",
    "    img = img.convert('RGB')\n",
    "    img.save(FOLDER + str(i) + '.jpg', \"JPEG\")"
   ]
  },
  {
   "cell_type": "code",
   "execution_count": null,
   "metadata": {},
   "outputs": [],
   "source": [
    "i = 0\n",
    "\n",
    "# ignore existing image\n",
    "while True:\n",
    "    i += 1\n",
    "    filename = FOLDER + str(i) + '.jpg'\n",
    "    if not os.path.isfile(filename):\n",
    "        i -= 1\n",
    "        break\n",
    "\n",
    "while i < 5000:\n",
    "    i += 1\n",
    "    location, size = get_screenshot()\n",
    "    coordinate = refine_coordinate(location, size)\n",
    "    crop_and_resize_image(coordinate, i)\n",
    "    print(\"i: \" + str(i))\n"
   ]
  },
  {
   "cell_type": "code",
   "execution_count": null,
   "metadata": {},
   "outputs": [],
   "source": []
  }
 ],
 "metadata": {
  "kernelspec": {
   "display_name": "Python 3",
   "language": "python",
   "name": "python3"
  },
  "language_info": {
   "codemirror_mode": {
    "name": "ipython",
    "version": 3
   },
   "file_extension": ".py",
   "mimetype": "text/x-python",
   "name": "python",
   "nbconvert_exporter": "python",
   "pygments_lexer": "ipython3",
   "version": "3.7.4"
  }
 },
 "nbformat": 4,
 "nbformat_minor": 2
}
