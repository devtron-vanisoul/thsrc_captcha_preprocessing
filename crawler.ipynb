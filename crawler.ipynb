{
 "cells": [
  {
   "cell_type": "code",
   "execution_count": null,
   "metadata": {},
   "outputs": [],
   "source": [
    "import time, os\n",
    "from PIL import Image\n",
    "from selenium import webdriver\n",
    "from selenium.webdriver.chrome.service import Service\n",
    "from webdriver_manager.chrome import ChromeDriverManager\n",
    "from selenium.webdriver.common.by import By\n",
    "\n",
    "FULL_IMG = \"thsrc.png\"\n",
    "WIDTH = 140\n",
    "HEIGHT = 48\n",
    "FOLDER = \"captcha/\""
   ]
  },
  {
   "cell_type": "code",
   "execution_count": null,
   "metadata": {},
   "outputs": [],
   "source": [
    "def get_screenshot(filename):\n",
    "    driver = webdriver.Chrome(service=Service(ChromeDriverManager().install()))\n",
    "    driver.get('http://irs.thsrc.com.tw/IMINT/')\n",
    "\n",
    "    driver.find_element(By.ID, 'cookieAccpetBtn').click()\n",
    "    time.sleep(1)\n",
    "\n",
    "    driver.save_screenshot(filename)\n",
    "    element = driver.find_element(By.XPATH, '//*[@id=\"BookingS1Form_homeCaptcha_passCode\"]')\n",
    "    location = element.location\n",
    "    size = element.size\n",
    "    device_pixel_ratio = int(driver.execute_script('return window.devicePixelRatio'))\n",
    "    driver.quit()\n",
    "    return location, size, device_pixel_ratio"
   ]
  },
  {
   "cell_type": "code",
   "execution_count": null,
   "metadata": {},
   "outputs": [],
   "source": [
    "def refine_coordinate(location, size, ratio):\n",
    "    # Mac Retina 把截圖會把解析度變為 2 倍，需要考慮 ratio\n",
    "    left = location['x'] * ratio\n",
    "    right = left + size['width'] * ratio\n",
    "    top = location['y'] * ratio\n",
    "    bottom = top + size['height'] * ratio\n",
    "    return (left, top, right, bottom)"
   ]
  },
  {
   "cell_type": "code",
   "execution_count": null,
   "metadata": {},
   "outputs": [],
   "source": [
    "def crop_image(filename, coordinate):\n",
    "    img = Image.open(filename)\n",
    "    img = img.crop(coordinate)\n",
    "    return img"
   ]
  },
  {
   "cell_type": "code",
   "execution_count": null,
   "metadata": {},
   "outputs": [],
   "source": [
    "i = 0\n",
    "\n",
    "#ignore existing image\n",
    "while True:\n",
    "    i += 1\n",
    "    filename = FOLDER + str(i) + '.jpg'\n",
    "    if not os.path.isfile(filename):\n",
    "        i -= 1\n",
    "        break\n",
    "\n",
    "print(\"start to crawler from index: \" + str(i))\n",
    "\n",
    "while i < 10000:\n",
    "    i += 1\n",
    "    location, size, ratio = get_screenshot(FULL_IMG)\n",
    "    coordinate = refine_coordinate(location, size, ratio)\n",
    "    img = crop_image(FULL_IMG, coordinate)\n",
    "    img = img.resize((WIDTH, HEIGHT), Image.ANTIALIAS)\n",
    "    # convert rgba to rgb\n",
    "    img = img.convert('RGB')\n",
    "    img.save(FOLDER + str(i) + '.jpg', \"JPEG\")\n",
    "    print(\"i: \" + str(i))\n",
    "\n",
    "print(\"completed\")"
   ]
  },
  {
   "cell_type": "code",
   "execution_count": null,
   "metadata": {},
   "outputs": [],
   "source": []
  }
 ],
 "metadata": {
  "kernelspec": {
   "display_name": "Python 3 (ipykernel)",
   "language": "python",
   "name": "python3"
  },
  "language_info": {
   "codemirror_mode": {
    "name": "ipython",
    "version": 3
   },
   "file_extension": ".py",
   "mimetype": "text/x-python",
   "name": "python",
   "nbconvert_exporter": "python",
   "pygments_lexer": "ipython3",
   "version": "3.9.12"
  }
 },
 "nbformat": 4,
 "nbformat_minor": 4
}
