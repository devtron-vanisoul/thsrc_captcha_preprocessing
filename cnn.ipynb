{
 "cells": [
  {
   "cell_type": "code",
   "execution_count": null,
   "metadata": {},
   "outputs": [],
   "source": [
    "import os, cv2, csv\n",
    "import numpy as np\n",
    "from keras.models import load_model\n",
    "from keras.utils import np_utils\n",
    "from keras.callbacks import ModelCheckpoint, EarlyStopping, TensorBoard\n",
    "from utilities import one_hot_encoding, read_train_data, read_label_data, create_cnn_model, show_train_history\n",
    "\n",
    "SIZE = 7800\n",
    "MODEL_FOLDER = \"model/\"\n",
    "WIDTH = 140\n",
    "HEIGHT = 48\n",
    "NUM_DIGIT = 4\n",
    "PROCESSED_FOLDER = \"processed/\"\n",
    "LABEL_CSV_FILE = 'label.csv'\n",
    "allowedChars = '234579ACFHKMNPQRTYZ';"
   ]
  },
  {
   "cell_type": "code",
   "execution_count": null,
   "metadata": {},
   "outputs": [],
   "source": [
    "model = create_cnn_model(WIDTH, HEIGHT, allowedChars, NUM_DIGIT)"
   ]
  },
  {
   "cell_type": "code",
   "execution_count": null,
   "metadata": {},
   "outputs": [],
   "source": [
    "print(\"Reading training data...\")\n",
    "\n",
    "train_data = read_train_data(PROCESSED_FOLDER, SIZE)\n",
    "train_label = read_label_data(LABEL_CSV_FILE, allowedChars, 4)\n",
    "\n",
    "print(\"Reading completed\")"
   ]
  },
  {
   "cell_type": "code",
   "execution_count": null,
   "metadata": {},
   "outputs": [],
   "source": [
    "filepath = MODEL_FOLDER + \"{epoch:02d}-{loss:.2f}-{val_loss:.2f}.hdf5\"\n",
    "checkpoint = ModelCheckpoint(filepath, monitor='val_digit4_acc', verbose=1, save_best_only=False, mode='max')\n",
    "earlystop = EarlyStopping(monitor='val_loss', patience=8, verbose=1, mode='auto')\n",
    "tensorBoard = TensorBoard(log_dir = 'logs', histogram_freq = 1)\n",
    "callbacks_list = [tensorBoard, earlystop, checkpoint]"
   ]
  },
  {
   "cell_type": "code",
   "execution_count": null,
   "metadata": {},
   "outputs": [],
   "source": [
    "#model = load_model(MODEL_FOLDER + \"25-1.10-3.01.hdf5\")"
   ]
  },
  {
   "cell_type": "code",
   "execution_count": null,
   "metadata": {},
   "outputs": [],
   "source": [
    "history = model.fit(train_data, train_label, validation_split=0.2, batch_size=50, epochs=10, verbose=1, shuffle=True, callbacks=callbacks_list)"
   ]
  },
  {
   "cell_type": "code",
   "execution_count": null,
   "metadata": {},
   "outputs": [],
   "source": [
    "show_train_history(history, 'digit1_acc', 'val_digit1_acc')"
   ]
  },
  {
   "cell_type": "code",
   "execution_count": null,
   "metadata": {},
   "outputs": [],
   "source": []
  }
 ],
 "metadata": {
  "kernelspec": {
   "display_name": "Python 3",
   "language": "python",
   "name": "python3"
  },
  "language_info": {
   "codemirror_mode": {
    "name": "ipython",
    "version": 3
   },
   "file_extension": ".py",
   "mimetype": "text/x-python",
   "name": "python",
   "nbconvert_exporter": "python",
   "pygments_lexer": "ipython3",
   "version": "3.7.4"
  }
 },
 "nbformat": 4,
 "nbformat_minor": 2
}
